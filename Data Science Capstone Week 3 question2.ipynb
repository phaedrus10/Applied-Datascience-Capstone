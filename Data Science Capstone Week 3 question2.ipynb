{
 "cells": [
  {
   "cell_type": "code",
   "execution_count": 1,
   "metadata": {},
   "outputs": [],
   "source": [
    "# import all necessary libraries including BeautifulSoup and requests for \n",
    "# reading in html text from Wikipedia webpage and parsing the text for the \n",
    "# table of Toronto area postcodes, boroughs and neighborhoods\n",
    "\n",
    "#!conda install -c conda-forge beautifulsoup4 --yes\n",
    "from bs4 import BeautifulSoup\n",
    "\n",
    "#!conda install -c conda-forge lxml --yes\n",
    "import lxml\n",
    "\n",
    "#!conda install -c conda-forge geocoder --yes\n",
    "import geocoder \n",
    "\n",
    "import pandas as pd\n",
    "import numpy as np\n",
    "\n",
    "import requests\n",
    "\n",
    "from sklearn.cluster import KMeans\n"
   ]
  },
  {
   "cell_type": "code",
   "execution_count": 4,
   "metadata": {},
   "outputs": [
    {
     "name": "stdout",
     "output_type": "stream",
     "text": [
      "Number of rows in dataframe (i.e. number of postcodes)  103\n"
     ]
    }
   ],
   "source": [
    "# get html object via request\n",
    "wikipage = requests.get('https://en.wikipedia.org/wiki/List_of_postal_codes_of_Canada:_M').text\n",
    "\n",
    "# parse html object using BeautifulSoup and lxml\n",
    "soup = BeautifulSoup(wikipage,'lxml')\n",
    "\n",
    "# identify portion of the html text containing the table of Toronto postcodes\n",
    "table = soup.find('table')\n",
    "\n",
    "# loop through the list of all table entries (identified via tag 'tr')\n",
    "# and extract and format each row of the table, making sure to split\n",
    "# each table row by carriage return '\\n' and removing any whitespace\n",
    "tablebody = []\n",
    "for xx in table.find_all('tr'):\n",
    "    tablebody.append(xx.text.split('\\n')[1:-1])\n",
    "\n",
    "# create pandas DataFrame to store table    \n",
    "df = pd.DataFrame(tablebody[1:],columns=tablebody[0])\n",
    "\n",
    "# only keep those rows that have a Borough identified by name\n",
    "df = df.loc[df['Borough'] != 'Not assigned',:]\n",
    "\n",
    "# replace the neighbourhood name with the borough name for those \n",
    "# neighborhoods with unassigned names\n",
    "df.loc[df['Neighbourhood'] == 'Not assigned','Neighbourhood'] = df.loc[df['Neighbourhood'] == 'Not assigned','Borough']\n",
    "\n",
    "# define function to concatenate a list of names into a list\n",
    "def f2(x):\n",
    "    return(list(x.unique()))\n",
    "\n",
    "# group Dataframe by borough and apply function to Postcode and Neighborhood columns\n",
    "df = df.groupby(['Postcode']).agg({'Borough':f2, 'Neighbourhood': f2}).reset_index()\n",
    "\n",
    "print('Number of rows in dataframe (i.e. number of postcodes) ', df.shape[0])"
   ]
  },
  {
   "cell_type": "code",
   "execution_count": null,
   "metadata": {},
   "outputs": [],
   "source": [
    "# import geocoder\n",
    "lat_long_coords = None\n",
    "\n",
    "# set up loop to find lat/long for every postcode in the dataframe\n",
    "# then, add columns for \"Latitude\" and \"Longitude\" to the dataframe\n",
    "for ind in df.index:\n",
    "    while( lat_long_coords is None):\n",
    "        g = geocoder.google('{}, Toronto, Ontario'.format(df.loc[ind,'Postcode']))\n",
    "        lat_long_coords = g.latlng\n",
    "    \n",
    "    df.loc[ind,\"Latitude\"] = lat_long_coords[0]\n",
    "    df.loc[ind,\"Longitude\"] = lat_long_coords[1]\n",
    "    print(df.loc[ind,\"Postcode\"] + ' Toronto, Ontario has lat/long ' + str(lat_long_coords))\n",
    "\n",
    "# NOTE: GETTING THE LAT LONG COORDINATES VIA GEOCODER WAS TAKING TOO LONG\n",
    "# SO I IMPORTED THE LAT/LONG COORDINATES FOR THE VARIOUS POSTCODES FROM\n",
    "# THE CSV FILE PROVIDED"
   ]
  },
  {
   "cell_type": "code",
   "execution_count": 7,
   "metadata": {},
   "outputs": [],
   "source": [
    "# import CSV file of lat/long coordinates into a second dataframe\n",
    "\n",
    "df_latlong = pd.read_csv('Geospatial_Coordinates.csv')\n",
    "df_latlong.rename(columns={'Postal Code':'Postcode'},inplace= True)\n",
    "\n",
    "# merge two dataframes on postcode\n",
    "df_toronto=df.join(df_latlong.set_index('Postcode'),on='Postcode')"
   ]
  }
 ],
 "metadata": {
  "kernelspec": {
   "display_name": "Python 3",
   "language": "python",
   "name": "python3"
  },
  "language_info": {
   "codemirror_mode": {
    "name": "ipython",
    "version": 3
   },
   "file_extension": ".py",
   "mimetype": "text/x-python",
   "name": "python",
   "nbconvert_exporter": "python",
   "pygments_lexer": "ipython3",
   "version": "3.6.8"
  }
 },
 "nbformat": 4,
 "nbformat_minor": 2
}
